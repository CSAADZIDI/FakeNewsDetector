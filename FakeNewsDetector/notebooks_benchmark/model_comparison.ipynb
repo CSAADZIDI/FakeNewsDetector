{
 "cells": [
  {
   "cell_type": "markdown",
   "id": "7c26a7bc",
   "metadata": {},
   "source": [
    "# Comparaison de modèles IA pour la détection de fake news, selon des métriques de performance standards.\n",
    "\n",
    "## Objectif du notebook\n",
    "Comparer plusieurs modèles (TF-IDF + LR, BERT, Azure GPT, etc.) sur un même jeu de données en évaluant :\n",
    "\n",
    "Accuracy\n",
    "\n",
    "Precision\n",
    "\n",
    "Recall\n",
    "\n",
    "F1-score\n",
    "\n",
    "Temps d’inférence\n",
    "\n",
    "Robustesse aux textes ambigus\n",
    "\n"
   ]
  },
  {
   "cell_type": "markdown",
   "id": "418d47f8",
   "metadata": {},
   "source": [
    "## Import des packages"
   ]
  },
  {
   "cell_type": "code",
   "execution_count": 2,
   "id": "2a901f94",
   "metadata": {},
   "outputs": [],
   "source": [
    "import time\n",
    "import pandas as pd\n",
    "import numpy as np\n",
    "import matplotlib.pyplot as plt\n",
    "from sklearn.metrics import accuracy_score, precision_score, recall_score, f1_score\n",
    "from sklearn.model_selection import train_test_split\n",
    "import requests\n"
   ]
  },
  {
   "cell_type": "markdown",
   "id": "6e7e0bdf",
   "metadata": {},
   "source": [
    "## Chargement du dataset\n",
    "Tu peux utiliser un dataset public comme :\n",
    "\n",
    "FakeNewsNet\n",
    "\n",
    "LIAR Dataset\n",
    "\n",
    "Kaggle: Fake News"
   ]
  },
  {
   "cell_type": "code",
   "execution_count": 3,
   "id": "a15776f4",
   "metadata": {},
   "outputs": [
    {
     "data": {
      "text/html": [
       "<div>\n",
       "<style scoped>\n",
       "    .dataframe tbody tr th:only-of-type {\n",
       "        vertical-align: middle;\n",
       "    }\n",
       "\n",
       "    .dataframe tbody tr th {\n",
       "        vertical-align: top;\n",
       "    }\n",
       "\n",
       "    .dataframe thead th {\n",
       "        text-align: right;\n",
       "    }\n",
       "</style>\n",
       "<table border=\"1\" class=\"dataframe\">\n",
       "  <thead>\n",
       "    <tr style=\"text-align: right;\">\n",
       "      <th></th>\n",
       "      <th>text</th>\n",
       "      <th>label</th>\n",
       "    </tr>\n",
       "  </thead>\n",
       "  <tbody>\n",
       "    <tr>\n",
       "      <th>0</th>\n",
       "      <td>As U.S. budget fight looms, Republicans flip t...</td>\n",
       "      <td>0</td>\n",
       "    </tr>\n",
       "    <tr>\n",
       "      <th>1</th>\n",
       "      <td>U.S. military to accept transgender recruits o...</td>\n",
       "      <td>0</td>\n",
       "    </tr>\n",
       "    <tr>\n",
       "      <th>2</th>\n",
       "      <td>Senior U.S. Republican senator: 'Let Mr. Muell...</td>\n",
       "      <td>0</td>\n",
       "    </tr>\n",
       "    <tr>\n",
       "      <th>3</th>\n",
       "      <td>FBI Russia probe helped by Australian diplomat...</td>\n",
       "      <td>0</td>\n",
       "    </tr>\n",
       "    <tr>\n",
       "      <th>4</th>\n",
       "      <td>Trump wants Postal Service to charge 'much mor...</td>\n",
       "      <td>0</td>\n",
       "    </tr>\n",
       "  </tbody>\n",
       "</table>\n",
       "</div>"
      ],
      "text/plain": [
       "                                                text  label\n",
       "0  As U.S. budget fight looms, Republicans flip t...      0\n",
       "1  U.S. military to accept transgender recruits o...      0\n",
       "2  Senior U.S. Republican senator: 'Let Mr. Muell...      0\n",
       "3  FBI Russia probe helped by Australian diplomat...      0\n",
       "4  Trump wants Postal Service to charge 'much mor...      0"
      ]
     },
     "execution_count": 3,
     "metadata": {},
     "output_type": "execute_result"
    }
   ],
   "source": [
    "import pandas as pd\n",
    "\n",
    "# Chargement des deux fichiers\n",
    "true_df = pd.read_csv(\"data/true.csv\")\n",
    "fake_df = pd.read_csv(\"data/fake.csv\")\n",
    "\n",
    "# Ajout de la colonne \"label\"\n",
    "true_df[\"label\"] = 0  # 0 = REAL\n",
    "fake_df[\"label\"] = 1  # 1 = FAKE\n",
    "\n",
    "# Harmonisation des colonnes (on garde \"text\" ou on renomme selon besoin)\n",
    "# Si les colonnes sont 'title' et 'text', on peut les combiner\n",
    "true_df[\"text\"] = true_df[\"title\"] + \" \" + true_df[\"text\"]\n",
    "fake_df[\"text\"] = fake_df[\"title\"] + \" \" + fake_df[\"text\"]\n",
    "\n",
    "# Fusion des deux datasets\n",
    "df = pd.concat([true_df, fake_df], ignore_index=True)\n",
    "\n",
    "# Nettoyage éventuel\n",
    "df = df[[\"text\", \"label\"]].dropna()\n",
    "\n",
    "df.head()\n",
    "\n",
    "\n"
   ]
  },
  {
   "cell_type": "markdown",
   "id": "361a776c",
   "metadata": {},
   "source": [
    "## Séparation des données"
   ]
  },
  {
   "cell_type": "code",
   "execution_count": 4,
   "id": "8d6392a6",
   "metadata": {},
   "outputs": [],
   "source": [
    "X_train, X_test, y_train, y_test = train_test_split(\n",
    "    df['text'], df['label'], test_size=0.2, random_state=42\n",
    ")\n"
   ]
  },
  {
   "cell_type": "markdown",
   "id": "b39fdded",
   "metadata": {},
   "source": [
    "## Appel des modèles FastAPI"
   ]
  },
  {
   "cell_type": "code",
   "execution_count": 5,
   "id": "8d076860",
   "metadata": {},
   "outputs": [],
   "source": [
    "def predict_via_fastapi(texts, model_name=\"tfidf\"):\n",
    "    predictions = []\n",
    "    for text in texts:\n",
    "        try:\n",
    "            response = requests.post(\n",
    "                f\"http://localhost:8001/predict?method={model_name}\",\n",
    "                json={\"content\": text},\n",
    "                timeout=10\n",
    "            )\n",
    "            response.raise_for_status()\n",
    "            predictions.append(int(response.json().get(\"is_fake\", 0)))\n",
    "        except Exception as e:\n",
    "            print(f\"Erreur pour {model_name}: {e}\")\n",
    "            predictions.append(0)\n",
    "    return predictions\n"
   ]
  },
  {
   "cell_type": "markdown",
   "id": "8d3567ba",
   "metadata": {},
   "source": [
    "## Définition des modèles à tester"
   ]
  },
  {
   "cell_type": "code",
   "execution_count": 6,
   "id": "fa0d5263",
   "metadata": {},
   "outputs": [],
   "source": [
    "models = {\n",
    "    \"TF-IDF + Logistic Regression\": lambda texts: predict_via_fastapi(texts, model_name=\"tfidf\"),\n",
    "    \"BERT\": lambda texts: predict_via_fastapi(texts, model_name=\"bert\"),\n",
    "    \"Azure GPT\": lambda texts: predict_via_fastapi(texts, model_name=\"azure\")\n",
    "}\n"
   ]
  },
  {
   "cell_type": "markdown",
   "id": "6a622265",
   "metadata": {},
   "source": [
    "## Boucle de benchmark"
   ]
  },
  {
   "cell_type": "code",
   "execution_count": null,
   "id": "f48ba797",
   "metadata": {},
   "outputs": [],
   "source": [
    "results = []\n",
    "\n",
    "for name, model_fn in models.items():\n",
    "    print(f\"Évaluation de {name}...\")\n",
    "    start = time.time()\n",
    "    y_pred = model_fn(X_test.tolist())\n",
    "    end = time.time()\n",
    "\n",
    "    acc = accuracy_score(y_test, y_pred)\n",
    "    prec = precision_score(y_test, y_pred)\n",
    "    rec = recall_score(y_test, y_pred)\n",
    "    f1 = f1_score(y_test, y_pred)\n",
    "\n",
    "    results.append({\n",
    "        \"Model\": name,\n",
    "        \"Accuracy\": acc,\n",
    "        \"Precision\": prec,\n",
    "        \"Recall\": rec,\n",
    "        \"F1-score\": f1,\n",
    "        \"Inference Time (s)\": end - start\n",
    "    })\n"
   ]
  },
  {
   "cell_type": "markdown",
   "id": "71c5ce49",
   "metadata": {},
   "source": [
    "## Résultats tabulaires"
   ]
  },
  {
   "cell_type": "code",
   "execution_count": null,
   "id": "57ae5d2a",
   "metadata": {},
   "outputs": [],
   "source": [
    "results_df = pd.DataFrame(results)\n",
    "results_df.sort_values(\"F1-score\", ascending=False)\n"
   ]
  },
  {
   "cell_type": "markdown",
   "id": "3f33267f",
   "metadata": {},
   "source": [
    "## Visualisation"
   ]
  },
  {
   "cell_type": "code",
   "execution_count": null,
   "id": "4a1fa7a9",
   "metadata": {},
   "outputs": [],
   "source": [
    "results_df.set_index(\"Model\")[[\"Accuracy\", \"Precision\", \"Recall\", \"F1-score\"]].plot.bar(\n",
    "    figsize=(10, 6), title=\"Performance des modèles de détection de fake news\"\n",
    ")\n",
    "plt.ylabel(\"Score\")\n",
    "plt.ylim(0, 1)\n",
    "plt.grid(True)\n",
    "plt.tight_layout()\n",
    "plt.show()\n"
   ]
  }
 ],
 "metadata": {
  "kernelspec": {
   "display_name": "venv",
   "language": "python",
   "name": "python3"
  },
  "language_info": {
   "codemirror_mode": {
    "name": "ipython",
    "version": 3
   },
   "file_extension": ".py",
   "mimetype": "text/x-python",
   "name": "python",
   "nbconvert_exporter": "python",
   "pygments_lexer": "ipython3",
   "version": "3.10.0"
  }
 },
 "nbformat": 4,
 "nbformat_minor": 5
}
